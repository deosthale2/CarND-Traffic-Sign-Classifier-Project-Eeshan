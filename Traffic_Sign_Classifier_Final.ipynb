{
 "cells": [
  {
   "cell_type": "markdown",
   "metadata": {},
   "source": [
    "# Self-Driving Car Engineer Nanodegree\n",
    "\n",
    "## Deep Learning\n",
    "\n",
    "## Project: Build a Traffic Sign Recognition Classifier\n",
    "\n",
    "In this notebook, a template is provided for you to implement your functionality in stages, which is required to successfully complete this project. If additional code is required that cannot be included in the notebook, be sure that the Python code is successfully imported and included in your submission if necessary. \n",
    "\n",
    "> **Note**: Once you have completed all of the code implementations, you need to finalize your work by exporting the iPython Notebook as an HTML document. Before exporting the notebook to html, all of the code cells need to have been run so that reviewers can see the final implementation and output. You can then export the notebook by using the menu above and navigating to  \\n\",\n",
    "    \"**File -> Download as -> HTML (.html)**. Include the finished document along with this notebook as your submission. \n",
    "\n",
    "In addition to implementing code, there is a writeup to complete. The writeup should be completed in a separate file, which can be either a markdown file or a pdf document. There is a [write up template](https://github.com/udacity/CarND-Traffic-Sign-Classifier-Project/blob/master/writeup_template.md) that can be used to guide the writing process. Completing the code template and writeup template will cover all of the [rubric points](https://review.udacity.com/#!/rubrics/481/view) for this project.\n",
    "\n",
    "The [rubric](https://review.udacity.com/#!/rubrics/481/view) contains \"Stand Out Suggestions\" for enhancing the project beyond the minimum requirements. The stand out suggestions are optional. If you decide to pursue the \"stand out suggestions\", you can include the code in this Ipython notebook and also discuss the results in the writeup file.\n",
    "\n",
    "\n",
    ">**Note:** Code and Markdown cells can be executed using the **Shift + Enter** keyboard shortcut. In addition, Markdown cells can be edited by typically double-clicking the cell to enter edit mode."
   ]
  },
  {
   "cell_type": "markdown",
   "metadata": {},
   "source": [
    "## Introduction\n",
    "\n",
    "The traffic-sign classifier project deals with classifying German traffic signs from their images usingDeep Learning techniques. Building a deep Convolutional Neural Network model is essential toclassify traffic signs for this project. Important steps in completing this projects are as follows.\n",
    "\n",
    "1. Load the German traffic-sign data-set and identify training, validation and test sets\n",
    "2. Explore, summarize and visualize the data-set\n",
    "3. Pre-process the data-set (augment, normalize, grayscale etc.)\n",
    "4. Design a deep learning model using tensorflow\n",
    "5. Train and test the model architecture using training and validation data-set\n",
    "6. Use the model to make predictions on test set as well as new images\n",
    "7. Analyze softmax probabilities for new images\n",
    "8. Summarize the results\n",
    "\n",
    "As a first step to develop code for this project, it is important to import necessary packages inpython."
   ]
  },
  {
   "cell_type": "markdown",
   "metadata": {},
   "source": [
    "## Import Packages"
   ]
  },
  {
   "cell_type": "code",
   "execution_count": 2,
   "metadata": {},
   "outputs": [],
   "source": [
    "import pickle\n",
    "import numpy as np\n",
    "import cv2\n",
    "from sklearn.utils import shuffle\n",
    "import tensorflow as tf\n",
    "import random\n",
    "import matplotlib.pyplot as plt\n",
    "# Visualizations will be shown in the notebook.\n",
    "%matplotlib inline"
   ]
  },
  {
   "cell_type": "code",
   "execution_count": 4,
   "metadata": {},
   "outputs": [],
   "source": [
    "## Hyperparameters\n",
    "no_channels = 1\n",
    "EPOCHS = 15\n",
    "BATCH_SIZE = 64\n",
    "dropout = 0.6"
   ]
  },
  {
   "cell_type": "markdown",
   "metadata": {},
   "source": [
    "---\n",
    "## Step 0: Load The Data"
   ]
  },
  {
   "cell_type": "markdown",
   "metadata": {},
   "source": [
    "The traffic signs images used in this project are from the German traffic sign dataset. The dataset is divided into 3 sets viz. training, validation and test sets. A quick summary of the dataset is provided in this section. The training set has more than 30000 examples available and each image is color image with RGB channels."
   ]
  },
  {
   "cell_type": "code",
   "execution_count": 5,
   "metadata": {},
   "outputs": [],
   "source": [
    "# Load pickled data\n",
    "\n",
    "training_file = './traffic_sign_data/traffic-signs-data/train.p'\n",
    "validation_file= './traffic_sign_data/traffic-signs-data/valid.p'\n",
    "testing_file = './traffic_sign_data/traffic-signs-data/test.p'\n",
    "\n",
    "with open(training_file, mode='rb') as f:\n",
    "    train = pickle.load(f)\n",
    "with open(validation_file, mode='rb') as f:\n",
    "    valid = pickle.load(f)\n",
    "with open(testing_file, mode='rb') as f:\n",
    "    test = pickle.load(f)\n",
    "    \n",
    "X_train, y_train = train['features'], train['labels']\n",
    "X_valid, y_valid = valid['features'], valid['labels']\n",
    "X_test, y_test = test['features'], test['labels']"
   ]
  },
  {
   "cell_type": "markdown",
   "metadata": {},
   "source": [
    "---\n",
    "\n",
    "## Step 1: Dataset Summary & Exploration\n",
    "\n",
    "The pickled data is a dictionary with 4 key/value pairs:\n",
    "\n",
    "- `'features'` is a 4D array containing raw pixel data of the traffic sign images, (num examples, width, height, channels).\n",
    "- `'labels'` is a 1D array containing the label/class id of the traffic sign. The file `signnames.csv` contains id -> name mappings for each id.\n",
    "- `'sizes'` is a list containing tuples, (width, height) representing the original width and height the image.\n",
    "- `'coords'` is a list containing tuples, (x1, y1, x2, y2) representing coordinates of a bounding box around the sign in the image. **THESE COORDINATES ASSUME THE ORIGINAL IMAGE. THE PICKLED DATA CONTAINS RESIZED VERSIONS (32 by 32) OF THESE IMAGES**\n",
    "\n",
    "Complete the basic data summary below. Use python, numpy and/or pandas methods to calculate the data summary rather than hard coding the results. For example, the [pandas shape method](http://pandas.pydata.org/pandas-docs/stable/generated/pandas.DataFrame.shape.html) might be useful for calculating some of the summary results. "
   ]
  },
  {
   "cell_type": "markdown",
   "metadata": {},
   "source": [
    "### Provide a Basic Summary of the Data Set Using Python, Numpy and/or Pandas"
   ]
  },
  {
   "cell_type": "code",
   "execution_count": 6,
   "metadata": {},
   "outputs": [
    {
     "name": "stdout",
     "output_type": "stream",
     "text": [
      "Number of training examples = 34799\n",
      "Number of validation examples = 4410\n",
      "Number of testing examples = 12630\n",
      "Image data shape = (32, 32, 3)\n",
      "Number of classes = 43\n"
     ]
    }
   ],
   "source": [
    "# Number of training examples\n",
    "n_train = len(X_train)\n",
    "\n",
    "# Number of validation examples\n",
    "n_validation = len(X_valid)\n",
    "\n",
    "# Number of testing examples.\n",
    "n_test = len(X_test)\n",
    "\n",
    "# Shape of the traffic sign image\n",
    "image_shape = X_train[0].shape\n",
    "\n",
    "# Shape of Lables\n",
    "label_shape = y_train.shape\n",
    "\n",
    "# Unique classes/labels in the dataset\n",
    "unique_labels, counts_per_label = np.unique(y_train, return_counts = True)\n",
    "n_classes = len(unique_labels)\n",
    "\n",
    "print(\"Number of training examples =\", n_train)\n",
    "print(\"Number of validation examples =\", n_validation)\n",
    "print(\"Number of testing examples =\", n_test)\n",
    "print(\"Image data shape =\", image_shape)\n",
    "print(\"Number of classes =\", n_classes)"
   ]
  },
  {
   "cell_type": "markdown",
   "metadata": {},
   "source": [
    "### Include an exploratory visualization of the dataset"
   ]
  },
  {
   "cell_type": "markdown",
   "metadata": {},
   "source": [
    "Visualize the German Traffic Signs Dataset using the pickled file(s). This is open ended, suggestions include: plotting traffic sign images, plotting the count of each sign, etc. \n",
    "\n",
    "The [Matplotlib](http://matplotlib.org/) [examples](http://matplotlib.org/examples/index.html) and [gallery](http://matplotlib.org/gallery.html) pages are a great resource for doing visualizations in Python.\n",
    "\n",
    "**NOTE:** It's recommended you start with something simple first. If you wish to do more, come back to it after you've completed the rest of the sections. It can be interesting to look at the distribution of classes in the training, validation and test set. Is the distribution the same? Are there more examples of some classes than others?"
   ]
  },
  {
   "cell_type": "code",
   "execution_count": 7,
   "metadata": {},
   "outputs": [
    {
     "data": {
      "text/plain": [
       "[Text(0, 0.5, 'Image Count'), Text(0.5, 0, 'Sign Number')]"
      ]
     },
     "execution_count": 7,
     "metadata": {},
     "output_type": "execute_result"
    },
    {
     "data": {
      "image/png": "[encoded data removed]",
      "text/plain": [
       "<Figure size 432x288 with 1 Axes>"
      ]
     },
     "metadata": {
      "needs_background": "light"
     },
     "output_type": "display_data"
    }
   ],
   "source": [
    "fig, ax = plt.subplots()\n",
    "ax.bar(range(len(unique_labels)), counts_per_label)\n",
    "ax.set(xlabel = 'Sign Number', ylabel = 'Image Count')"
   ]
  },
  {
   "cell_type": "markdown",
   "metadata": {},
   "source": [
    "# Step 2: Preprocessig Dataset"
   ]
  },
  {
   "cell_type": "markdown",
   "metadata": {},
   "source": [
    "### Leveling the Dataset\n",
    "\n",
    "As seen in previous cell, the dataset has high variability in terms of number of training examples available per class. To level the dataset, a threshold of 1500 images was selected and for the classes with examples less than that, images were added by randomly duplicating training images. Though this method works well for this dataset, an online article mentioned that it maynot be a good idea as the variability in the original training dataset can be representative of the occurance of that particular class in real world."
   ]
  },
  {
   "cell_type": "code",
   "execution_count": 8,
   "metadata": {},
   "outputs": [],
   "source": [
    "threshold = 1500\n",
    "for i in range(n_classes):\n",
    "    if counts_per_label[i]<threshold:\n",
    "        img_arr = X_train[y_train == i]\n",
    "        diff_count = threshold - counts_per_label[i]\n",
    "        rand_idx = (np.random.rand(diff_count)*(len(img_arr)-1)//1).astype(int)\n",
    "        append_arr = img_arr[rand_idx]\n",
    "        append_label = np.ones(diff_count)*i\n",
    "        X_train = np.concatenate((X_train, append_arr))\n",
    "        y_train = np.concatenate((y_train, append_label))\n",
    "unique_labels, counts_per_label = np.unique(y_train, return_counts = True)"
   ]
  },
  {
   "cell_type": "code",
   "execution_count": 9,
   "metadata": {},
   "outputs": [
    {
     "name": "stdout",
     "output_type": "stream",
     "text": [
      "Training X Length 67380 Training y Length 67380\n"
     ]
    },
    {
     "data": {
      "image/png": "[encoded data removed]",
      "text/plain": [
       "<Figure size 432x288 with 1 Axes>"
      ]
     },
     "metadata": {
      "needs_background": "light"
     },
     "output_type": "display_data"
    }
   ],
   "source": [
    "fig, ax = plt.subplots()\n",
    "ax.bar(range(len(unique_labels)), counts_per_label)\n",
    "ax.set(xlabel = 'Sign Number', ylabel = 'Image Count')\n",
    "\n",
    "print('Training X Length', len(X_train), 'Training y Length', len(y_train))"
   ]
  },
  {
   "cell_type": "markdown",
   "metadata": {},
   "source": [
    "### Grayscaling\n",
    "Once the dataset is levelled, the images are grayscaled to reduce feature maps and thereby reduce datapoints. Python OpenCV library is used to convert RGB images to grayscale images."
   ]
  },
  {
   "cell_type": "code",
   "execution_count": 10,
   "metadata": {},
   "outputs": [],
   "source": [
    "X_train_gray = np.zeros((len(X_train), 32, 32, 1))\n",
    "for i in range(len(X_train)):\n",
    "    X_train_gray[i,:,:,0] = cv2.cvtColor(X_train[i], cv2.COLOR_RGB2GRAY)   \n",
    "\n",
    "X_valid_gray = np.zeros((len(X_valid), 32, 32, 1))\n",
    "for i in range(len(X_valid)):\n",
    "    X_valid_gray[i,:,:,0] = cv2.cvtColor(X_valid[i], cv2.COLOR_RGB2GRAY) \n",
    "    \n",
    "X_test_gray = np.zeros((len(X_test), 32, 32, 1))\n",
    "for i in range(len(X_test)):\n",
    "    X_test_gray[i,:,:,0] = cv2.cvtColor(X_test[i], cv2.COLOR_RGB2GRAY) "
   ]
  },
  {
   "cell_type": "markdown",
   "metadata": {},
   "source": [
    "### Dataset Augmentation\n",
    "\n",
    "The next step in pre-processing the data is to augment the dataset by rotating and translating existing images. Such kind of augmentation prevents the neural network model from over-fitting the data. For each image, the angle of rotation is randomly chosen between $-10^{\\circ}$ and $10^{\\circ}$. Also, the images are translated by 3 pixels in x and y direction, but the sign is chose in a sequential manner. The dataset is augmented by 3 times its original number by rotating, translating and rotating as well translating every image. Following cell just shows an example of different ways used for augmentation and preprocessing."
   ]
  },
  {
   "cell_type": "code",
   "execution_count": 11,
   "metadata": {},
   "outputs": [
    {
     "data": {
      "image/png": "[encoded data removed]",
      "text/plain": [
       "<Figure size 432x288 with 5 Axes>"
      ]
     },
     "metadata": {
      "needs_background": "light"
     },
     "output_type": "display_data"
    }
   ],
   "source": [
    "img_idx = 58032\n",
    "image_color = X_train[img_idx]\n",
    "image_gray = X_train_gray[img_idx].squeeze()\n",
    "image_norm = (image_gray-128)/128\n",
    "\n",
    "M = cv2.getRotationMatrix2D((16,16),10,1)\n",
    "image_rot = cv2.warpAffine(image_gray,M,(32,32))\n",
    "\n",
    "M_t = np.float32([[1,0,3],[0,1,3]])\n",
    "image_trans = cv2.warpAffine(image_gray,M_t,(32,32))\n",
    "\n",
    "img_arr = [image_color, image_gray, image_norm, image_rot, image_trans]\n",
    "fig, axarr = plt.subplots(1,5)\n",
    "labels = ['color', 'gray', 'norm', 'rot', 'trans']\n",
    "for i in range(5):\n",
    "    if i == 0:\n",
    "        axarr[i].imshow(img_arr[i])\n",
    "    else:\n",
    "        axarr[i].imshow(img_arr[i], cmap='gray')\n",
    "    axarr[i].set_xlabel(labels[i])"
   ]
  },
  {
   "cell_type": "markdown",
   "metadata": {},
   "source": [
    "#### Rotation"
   ]
  },
  {
   "cell_type": "code",
   "execution_count": 12,
   "metadata": {},
   "outputs": [
    {
     "name": "stdout",
     "output_type": "stream",
     "text": [
      "134760 134760\n"
     ]
    }
   ],
   "source": [
    "rot_arr = (np.random.rand(len(X_train_gray))*20-10)//1\n",
    "new_img_arr, new_y_arr = [], []\n",
    "X_train_gray_copy = np.copy(X_train_gray)\n",
    "y_train_copy = np.copy(y_train)\n",
    "for i, img in enumerate(X_train_gray_copy):\n",
    "    M = cv2.getRotationMatrix2D((16,16),rot_arr[i],1)\n",
    "    dst = cv2.warpAffine(img,M,(32,32))\n",
    "    dst = np.expand_dims(dst, axis=2)\n",
    "    new_img_arr += [dst]\n",
    "    new_y_arr += [y_train_copy[i]]\n",
    "new_img_arr = np.array(new_img_arr)\n",
    "new_y_arr = np.array(new_y_arr)\n",
    "X_train_gray = np.append(X_train_gray, new_img_arr, axis=0)\n",
    "y_train = np.append(y_train, new_y_arr, axis=0)\n",
    "print(len(X_train_gray), len(y_train))"
   ]
  },
  {
   "cell_type": "markdown",
   "metadata": {},
   "source": [
    "#### Translation"
   ]
  },
  {
   "cell_type": "code",
   "execution_count": 13,
   "metadata": {},
   "outputs": [
    {
     "name": "stdout",
     "output_type": "stream",
     "text": [
      "202140 202140\n"
     ]
    }
   ],
   "source": [
    "# X_train_gray_copy = np.copy(X_train_gray)\n",
    "\n",
    "trans_x = [3, 3, -3, -3]\n",
    "trans_y = [3, -3, 3, -3]\n",
    "new_trans_X, new_trans_y = [], []\n",
    "\n",
    "for i, img in enumerate(X_train_gray_copy):\n",
    "    M_t = np.float32([[1,0,i%4],[0,1,i%4]])\n",
    "    dst = cv2.warpAffine(img,M_t,(32,32))\n",
    "    dst = np.expand_dims(dst, axis=2)\n",
    "    new_trans_X += [dst]\n",
    "    new_trans_y += [y_train_copy[i]]\n",
    "new_trans_X = np.array(new_trans_X)\n",
    "new_trans_y = np.array(new_trans_y)\n",
    "X_train_gray = np.append(X_train_gray, new_trans_X, axis=0)\n",
    "y_train = np.append(y_train, new_trans_y, axis=0)\n",
    "print(len(X_train_gray), len(y_train))"
   ]
  },
  {
   "cell_type": "markdown",
   "metadata": {},
   "source": [
    "#### Rotation + Translation"
   ]
  },
  {
   "cell_type": "code",
   "execution_count": 14,
   "metadata": {},
   "outputs": [
    {
     "name": "stdout",
     "output_type": "stream",
     "text": [
      "269520 269520\n"
     ]
    }
   ],
   "source": [
    "# X_train_gray_copy = np.copy(X_train_gray)\n",
    "# y_train_copy = np.copy(y_train)\n",
    "\n",
    "trans_x = [3, 3, -3, -3]\n",
    "trans_y = [3, -3, 3, -3]\n",
    "new_X, new_y = [], []\n",
    "\n",
    "rot_arr = (np.random.rand(len(X_train_gray_copy))*20-10)//1\n",
    "for i, img in enumerate(X_train_gray_copy):\n",
    "    M = cv2.getRotationMatrix2D((16,16),rot_arr[i],1)\n",
    "    M_t = np.float32([[1,0,i%4],[0,1,i%4]])\n",
    "    dst = cv2.warpAffine(img,M,(32,32))\n",
    "    dst = cv2.warpAffine(img,M_t,(32,32))\n",
    "    dst = np.expand_dims(dst, axis=2)\n",
    "    new_X += [dst]\n",
    "    new_y += [y_train_copy[i]]\n",
    "new_X = np.array(new_X)\n",
    "new_y = np.array(new_y)\n",
    "X_train_gray = np.append(X_train_gray, new_X, axis=0)\n",
    "y_train = np.append(y_train, new_y, axis=0)\n",
    "print(len(X_train_gray), len(y_train))"
   ]
  },
  {
   "cell_type": "markdown",
   "metadata": {},
   "source": [
    "### Normalizing and Shuffling"
   ]
  },
  {
   "cell_type": "code",
   "execution_count": 15,
   "metadata": {},
   "outputs": [],
   "source": [
    "def normalize_data(X):\n",
    "    return (X - 128)/128\n",
    "\n",
    "def shuffle_data(X, y):\n",
    "    X, y = shuffle(X, y)\n",
    "    return X, y"
   ]
  },
  {
   "cell_type": "code",
   "execution_count": 16,
   "metadata": {},
   "outputs": [],
   "source": [
    "## Select appropriate data based on No. of Channels\n",
    "if no_channels == 3:\n",
    "    train_X = X_train\n",
    "    train_y = y_train\n",
    "    valid_X = X_valid\n",
    "    valid_y = y_valid\n",
    "    test_X = X_test\n",
    "    test_y = y_test\n",
    "elif no_channels == 1:\n",
    "    train_X = X_train_gray\n",
    "    train_y = y_train\n",
    "    valid_X = X_valid_gray\n",
    "    valid_y = y_valid\n",
    "    test_X = X_test_gray\n",
    "    test_y = y_test"
   ]
  },
  {
   "cell_type": "code",
   "execution_count": 17,
   "metadata": {},
   "outputs": [],
   "source": [
    "train_X = normalize_data(train_X)\n",
    "valid_X = normalize_data(valid_X)\n",
    "test_X = normalize_data(test_X)\n",
    "\n",
    "train_X, train_y = shuffle_data(train_X, train_y)"
   ]
  },
  {
   "cell_type": "markdown",
   "metadata": {},
   "source": [
    "----\n",
    "\n",
    "## Step 2: Design and Test a Model Architecture\n",
    "\n",
    "Design and implement a deep learning model that learns to recognize traffic signs. Train and test your model on the [German Traffic Sign Dataset](http://benchmark.ini.rub.de/?section=gtsrb&subsection=dataset).\n",
    "\n",
    "The LeNet-5 implementation shown in the [classroom](https://classroom.udacity.com/nanodegrees/nd013/parts/fbf77062-5703-404e-b60c-95b78b2f3f9e/modules/6df7ae49-c61c-4bb2-a23e-6527e69209ec/lessons/601ae704-1035-4287-8b11-e2c2716217ad/concepts/d4aca031-508f-4e0b-b493-e7b706120f81) at the end of the CNN lesson is a solid starting point. You'll have to change the number of classes and possibly the preprocessing, but aside from that it's plug and play! \n",
    "\n",
    "With the LeNet-5 solution from the lecture, you should expect a validation set accuracy of about 0.89. To meet specifications, the validation set accuracy will need to be at least 0.93. It is possible to get an even higher accuracy, but 0.93 is the minimum for a successful project submission. \n",
    "\n",
    "There are various aspects to consider when thinking about this problem:\n",
    "\n",
    "- Neural network architecture (is the network over or underfitting?)\n",
    "- Play around preprocessing techniques (normalization, rgb to grayscale, etc)\n",
    "- Number of examples per label (some have more than others).\n",
    "- Generate fake data.\n",
    "\n",
    "Here is an example of a [published baseline model on this problem](http://yann.lecun.com/exdb/publis/pdf/sermanet-ijcnn-11.pdf). It's not required to be familiar with the approach used in the paper but, it's good practice to try to read papers like these."
   ]
  },
  {
   "cell_type": "markdown",
   "metadata": {},
   "source": [
    "### Model Architecture"
   ]
  },
  {
   "cell_type": "code",
   "execution_count": 18,
   "metadata": {},
   "outputs": [],
   "source": [
    "def conv2d(x, W, b, stride = 1, pad = 'VALID'):\n",
    "    x = tf.nn.conv2d(x, W, strides = [1,stride,stride,1], padding = pad)\n",
    "    x = tf.nn.bias_add(x, b)\n",
    "    return tf.nn.relu(x)"
   ]
  },
  {
   "cell_type": "code",
   "execution_count": 19,
   "metadata": {},
   "outputs": [],
   "source": [
    "def maxpool2d(x, k = 2, stride = 2):\n",
    "    return tf.nn.max_pool(x, ksize = [1,k,k,1], strides = [1, stride, stride, 1], padding = 'SAME')"
   ]
  },
  {
   "cell_type": "code",
   "execution_count": 20,
   "metadata": {},
   "outputs": [],
   "source": [
    "from tensorflow.contrib.layers import flatten\n",
    "\n",
    "def LeNet(x, in_channels = 3, drop_out = 1.):\n",
    "    ## Arguments used for tf.truncated_normal, randomly defines variables for the weights and biases for each layer\n",
    "    mu = 0\n",
    "    sigma = 0.1\n",
    "    \n",
    "    ## Define no. of channels in each layer\n",
    "    channels = [10, 20, 500, 240, 168, 43]\n",
    "    \n",
    "    ## Define nomralized weights and biases\n",
    "    weights = {\n",
    "        'wc1': tf.Variable(tf.truncated_normal([5,5,in_channels,channels[0]], mean = mu, stddev = sigma)),\n",
    "        'wc2': tf.Variable(tf.truncated_normal([5,5,channels[0],channels[1]], mean = mu, stddev = sigma)),\n",
    "        'wd1': tf.Variable(tf.truncated_normal([channels[2],channels[3]], mean = mu, stddev = sigma)),\n",
    "        'wd2': tf.Variable(tf.truncated_normal([channels[3],channels[4]], mean = mu, stddev = sigma)),\n",
    "        'out': tf.Variable(tf.truncated_normal([channels[4],channels[5]], mean = mu, stddev = sigma))\n",
    "    }\n",
    "    \n",
    "    biases = {\n",
    "        'bc1': tf.Variable(tf.truncated_normal([channels[0]])),\n",
    "        'bc2': tf.Variable(tf.truncated_normal([channels[1]])),\n",
    "        'bd1': tf.Variable(tf.truncated_normal([channels[3]])),\n",
    "        'bd2': tf.Variable(tf.truncated_normal([channels[4]])),\n",
    "        'out': tf.Variable(tf.truncated_normal([channels[5]]))\n",
    "    }\n",
    "    \n",
    "    ## Layer 1: Convolutional with Pooling. Input = 32x32x1, Output = 14x14x6.\n",
    "    conv1 = conv2d(x, weights['wc1'], biases['bc1'], 1, 'VALID')\n",
    "    conv1 = maxpool2d(conv1, 2, 2)\n",
    "#     conv1 = tf.nn.dropout(conv1, 0.9)\n",
    "    \n",
    "    ## Layer 2: Convolutional with Pooling. Input = 14x14x6, Output = 5x5x16.\n",
    "    conv2 = conv2d(conv1, weights['wc2'], biases['bc2'], 1, 'VALID')\n",
    "    conv2 = maxpool2d(conv2, 2, 2)\n",
    "    conv2 = tf.nn.dropout(conv2, drop_out)\n",
    "    \n",
    "    ## Layer 3: Fully Connected. Input = 400. Output = 120.\n",
    "    fc1 = flatten(conv2)\n",
    "    fc1 = tf.add(tf.matmul(fc1, weights['wd1']), biases['bd1'])\n",
    "    fc1 = tf.nn.relu(fc1)\n",
    "    fc1 = tf.nn.dropout(fc1, drop_out)\n",
    "    \n",
    "    ## Layer 4: Fully Connected. Input = 120, Output = 84.\n",
    "    fc2 = tf.add(tf.matmul(fc1, weights['wd2']), biases['bd2'])\n",
    "    fc2 = tf.nn.relu(fc2)\n",
    "    fc2 = tf.nn.dropout(fc2, drop_out)\n",
    "    \n",
    "    ## Layer 5: Fully Connected. Input = 84, Output = 43.\n",
    "    logits = tf.add(tf.matmul(fc2, weights['out']), biases['out'])\n",
    "    \n",
    "    return logits, conv1, conv2"
   ]
  },
  {
   "cell_type": "markdown",
   "metadata": {},
   "source": [
    "### Train, Validate and Test the Model"
   ]
  },
  {
   "cell_type": "markdown",
   "metadata": {},
   "source": [
    "A validation set can be used to assess how well the model is performing. A low accuracy on the training and validation\n",
    "sets imply underfitting. A high accuracy on the training set but low accuracy on the validation set implies overfitting."
   ]
  },
  {
   "cell_type": "code",
   "execution_count": 21,
   "metadata": {},
   "outputs": [],
   "source": [
    "### Train your model here.\n",
    "### Calculate and report the accuracy on the training and validation set.\n",
    "### Once a final model architecture is selected, \n",
    "### the accuracy on the test set should be calculated and reported as well.\n",
    "### Feel free to use as many code cells as needed.\n",
    "\n",
    "x = tf.placeholder(tf.float32, (None, 32, 32, no_channels))\n",
    "y = tf.placeholder(tf.int32, (None))\n",
    "one_hot_y = tf.one_hot(y, 43)\n",
    "\n",
    "keep_prob = tf.placeholder(tf.float32)\n",
    "channel_in = tf.constant(no_channels)"
   ]
  },
  {
   "cell_type": "code",
   "execution_count": 22,
   "metadata": {},
   "outputs": [
    {
     "name": "stdout",
     "output_type": "stream",
     "text": [
      "WARNING:tensorflow:From <ipython-input-22-f0780c0e1e6c>:3: softmax_cross_entropy_with_logits (from tensorflow.python.ops.nn_ops) is deprecated and will be removed in a future version.\n",
      "Instructions for updating:\n",
      "\n",
      "Future major versions of TensorFlow will allow gradients to flow\n",
      "into the labels input on backprop by default.\n",
      "\n",
      "See `tf.nn.softmax_cross_entropy_with_logits_v2`.\n",
      "\n"
     ]
    }
   ],
   "source": [
    "rate = 0.001\n",
    "logits, conv1, conv2 = LeNet(x, channel_in, keep_prob)\n",
    "cross_entropy = tf.nn.softmax_cross_entropy_with_logits(labels=one_hot_y, logits=logits)\n",
    "loss_operation = tf.reduce_mean(cross_entropy)\n",
    "optimizer = tf.train.AdamOptimizer(learning_rate = rate)\n",
    "training_operation = optimizer.minimize(loss_operation)"
   ]
  },
  {
   "cell_type": "code",
   "execution_count": 23,
   "metadata": {},
   "outputs": [],
   "source": [
    "correct_prediction = tf.equal(tf.argmax(logits, 1), tf.argmax(one_hot_y, 1))\n",
    "accuracy_operation = tf.reduce_mean(tf.cast(correct_prediction, tf.float32))\n",
    "saver = tf.train.Saver()\n",
    "\n",
    "def evaluate(X_data, y_data):\n",
    "    num_examples = len(X_data)\n",
    "    total_accuracy = 0\n",
    "    sess = tf.get_default_session()\n",
    "    for offset in range(0, num_examples, BATCH_SIZE):\n",
    "        batch_x, batch_y = X_data[offset:offset+BATCH_SIZE], y_data[offset:offset+BATCH_SIZE]\n",
    "        accuracy = sess.run(accuracy_operation, feed_dict={x: batch_x, y: batch_y, keep_prob: 1., channel_in: no_channels})\n",
    "        total_accuracy += (accuracy * len(batch_x))\n",
    "    return total_accuracy / num_examples"
   ]
  },
  {
   "cell_type": "code",
   "execution_count": 24,
   "metadata": {},
   "outputs": [],
   "source": [
    "## Additional Block for Calculating Precision and Recall\n",
    "\n",
    "prediction = tf.argmax(logits, 1)\n",
    "\n",
    "def get_precision_recall(X_data, y_data):\n",
    "    num_examples = len(X_data)\n",
    "    predict = np.zeros(num_examples)\n",
    "    correct_predict = np.zeros(num_examples)\n",
    "    sess = tf.get_default_session()\n",
    "    for offset in range(0, num_examples, BATCH_SIZE):\n",
    "        batch_x, batch_y = X_data[offset:offset+BATCH_SIZE], y_data[offset:offset+BATCH_SIZE]\n",
    "        predict[offset:offset+BATCH_SIZE] = sess.run(prediction, feed_dict={x: batch_x, y: batch_y, keep_prob: 1., channel_in: no_channels})\n",
    "        correct_predict[offset:offset+BATCH_SIZE] = sess.run(correct_prediction, feed_dict={x: batch_x, y: batch_y, keep_prob: 1., channel_in: no_channels})\n",
    "    \n",
    "    unique_labels, counts_per_label = np.unique(y_data, return_counts = True)\n",
    "    num_pos, true_pos, false_pos = np.zeros(len(unique_labels)), np.zeros(len(unique_labels)), np.zeros(len(unique_labels))\n",
    "    precision, recall = np.zeros(len(unique_labels)), np.zeros(len(unique_labels))\n",
    "    for i, label in enumerate(unique_labels):\n",
    "        batch_x = X_data[y_data == label]\n",
    "        batch_y = y_data[y_data == label]\n",
    "        num_pos[i] = len(predict[predict == label])\n",
    "        false_pos[i] = len(predict[(predict == label) & (y_data != label)])\n",
    "        true_pos[i] = np.sum(correct_predict[y_data == label])\n",
    "        precision[i] = true_pos[i]/num_pos[i]\n",
    "        recall[i] = true_pos[i]/counts_per_label[i]\n",
    "    return precision, recall"
   ]
  },
  {
   "cell_type": "code",
   "execution_count": 25,
   "metadata": {},
   "outputs": [
    {
     "name": "stdout",
     "output_type": "stream",
     "text": [
      "(269520, 32, 32, 1)\n",
      "Training...\n",
      "\n",
      "EPOCH 1 ...\n",
      "Validation Accuracy = 0.846\n",
      "Training Accuracy = 0.908\n",
      "\n",
      "EPOCH 2 ...\n",
      "Validation Accuracy = 0.904\n",
      "Training Accuracy = 0.959\n",
      "\n",
      "EPOCH 3 ...\n",
      "Validation Accuracy = 0.902\n",
      "Training Accuracy = 0.963\n",
      "\n",
      "EPOCH 4 ...\n",
      "Validation Accuracy = 0.927\n",
      "Training Accuracy = 0.968\n",
      "\n",
      "EPOCH 5 ...\n",
      "Validation Accuracy = 0.937\n",
      "Training Accuracy = 0.974\n",
      "\n",
      "EPOCH 6 ...\n",
      "Validation Accuracy = 0.948\n",
      "Training Accuracy = 0.981\n",
      "\n",
      "EPOCH 7 ...\n",
      "Validation Accuracy = 0.940\n",
      "Training Accuracy = 0.983\n",
      "\n",
      "EPOCH 8 ...\n",
      "Validation Accuracy = 0.943\n",
      "Training Accuracy = 0.984\n",
      "\n",
      "EPOCH 9 ...\n",
      "Validation Accuracy = 0.951\n",
      "Training Accuracy = 0.987\n",
      "\n",
      "EPOCH 10 ...\n",
      "Validation Accuracy = 0.942\n",
      "Training Accuracy = 0.987\n",
      "\n",
      "EPOCH 11 ...\n",
      "Validation Accuracy = 0.947\n",
      "Training Accuracy = 0.986\n",
      "\n",
      "EPOCH 12 ...\n",
      "Validation Accuracy = 0.955\n",
      "Training Accuracy = 0.989\n",
      "\n",
      "EPOCH 13 ...\n",
      "Validation Accuracy = 0.947\n",
      "Training Accuracy = 0.985\n",
      "\n",
      "EPOCH 14 ...\n",
      "Validation Accuracy = 0.953\n",
      "Training Accuracy = 0.989\n",
      "\n",
      "EPOCH 15 ...\n",
      "Validation Accuracy = 0.960\n",
      "Training Accuracy = 0.993\n",
      "\n",
      "Model saved\n"
     ]
    }
   ],
   "source": [
    "with tf.Session() as sess:\n",
    "    sess.run(tf.global_variables_initializer())\n",
    "    num_examples = len(train_X)\n",
    "    print(train_X.shape)\n",
    "    print(\"Training...\")\n",
    "    print()\n",
    "    for i in range(EPOCHS):\n",
    "        train_X, train_y = shuffle(train_X, train_y)\n",
    "        for offset in range(0, num_examples, BATCH_SIZE):\n",
    "            end = offset + BATCH_SIZE\n",
    "            batch_x, batch_y = train_X[offset:end], train_y[offset:end]\n",
    "            sess.run(training_operation, feed_dict={x: batch_x, y: batch_y, keep_prob: dropout, channel_in: no_channels})\n",
    "            \n",
    "        validation_accuracy = evaluate(valid_X, valid_y)\n",
    "        training_accuracy = evaluate(train_X[:50*BATCH_SIZE], train_y[:50*BATCH_SIZE])\n",
    "        print(\"EPOCH {} ...\".format(i+1))\n",
    "        print(\"Validation Accuracy = {:.3f}\".format(validation_accuracy))\n",
    "        print(\"Training Accuracy = {:.3f}\".format(training_accuracy))\n",
    "        print()\n",
    "        \n",
    "    saver.save(sess, './deonet3')\n",
    "    print(\"Model saved\")"
   ]
  },
  {
   "cell_type": "code",
   "execution_count": 26,
   "metadata": {},
   "outputs": [
    {
     "name": "stdout",
     "output_type": "stream",
     "text": [
      "INFO:tensorflow:Restoring parameters from ./deonet3\n",
      "Test Accuracy = 0.940\n"
     ]
    }
   ],
   "source": [
    "## Check test set accuracy\n",
    "\n",
    "with tf.Session() as sess:\n",
    "    saver.restore(sess, tf.train.latest_checkpoint('.'))\n",
    "\n",
    "    test_accuracy = evaluate(test_X, test_y)\n",
    "    print(\"Test Accuracy = {:.3f}\".format(test_accuracy))\n",
    "    \n",
    "#     print('Validation Precision and Recall')\n",
    "    precision_valid, recall_valid = get_precision_recall(valid_X, valid_y)\n",
    "\n",
    "#     print('Test Precision and Recall')\n",
    "    precision_test, recall_test = get_precision_recall(test_X, test_y)"
   ]
  },
  {
   "cell_type": "code",
   "execution_count": 27,
   "metadata": {},
   "outputs": [
    {
     "data": {
      "image/png": "[encoded data removed]",
      "text/plain": [
       "<Figure size 432x288 with 4 Axes>"
      ]
     },
     "metadata": {
      "needs_background": "light"
     },
     "output_type": "display_data"
    }
   ],
   "source": [
    "## Plot precision and recall\n",
    "\n",
    "fig, axs = plt.subplots(2, 2, sharex='all', sharey='all')\n",
    "axs[0,0].bar(range(len(unique_labels)), precision_valid)\n",
    "axs[0,0].set_title('Validation Precision')\n",
    "axs[0,1].bar(range(len(unique_labels)), recall_valid)\n",
    "axs[0,1].set_title('Validation Recall')\n",
    "axs[1,0].bar(range(len(unique_labels)), precision_test)\n",
    "axs[1,0].set_title('Test Precision')\n",
    "axs[1,1].bar(range(len(unique_labels)), recall_test)\n",
    "axs[1,1].set_title('Test Recall')\n",
    "\n",
    "for ax in axs.flat:\n",
    "    ax.set(xlabel='Sign Number', ylabel='Metric in Fraction')\n",
    "    \n",
    "for ax in axs.flat:\n",
    "    ax.label_outer()\n",
    "\n",
    "plt.show()"
   ]
  },
  {
   "cell_type": "markdown",
   "metadata": {},
   "source": [
    "---\n",
    "\n",
    "## Step 3: Test a Model on New Images\n",
    "\n",
    "To give yourself more insight into how your model is working, download at least five pictures of German traffic signs from the web and use your model to predict the traffic sign type.\n",
    "\n",
    "You may find `signnames.csv` useful as it contains mappings from the class id (integer) to the actual sign name."
   ]
  },
  {
   "cell_type": "markdown",
   "metadata": {},
   "source": [
    "### Load and Output the Images"
   ]
  },
  {
   "cell_type": "code",
   "execution_count": 28,
   "metadata": {},
   "outputs": [],
   "source": [
    "import glob\n",
    "base_folder = './traffic_sign_data/web_images'\n",
    "filenames = glob.glob(base_folder+'/*_test.*')\n",
    "filenames = [filenames[i] for i in np.argsort(filenames)]\n",
    "test_images = []\n",
    "for fname in filenames:\n",
    "    img = cv2.imread(fname)\n",
    "    img = cv2.resize(img, (32, 32), interpolation = cv2.INTER_AREA)\n",
    "    test_images += [img]\n",
    "test_images = np.array(test_images)\n",
    "test_expect = np.array([1, 1, 2, 4, 12, 11, 14, 31, 31, 13])"
   ]
  },
  {
   "cell_type": "code",
   "execution_count": 29,
   "metadata": {},
   "outputs": [
    {
     "data": {
      "image/png": "[encoded data removed]",
      "text/plain": [
       "<Figure size 432x288 with 10 Axes>"
      ]
     },
     "metadata": {
      "needs_background": "light"
     },
     "output_type": "display_data"
    }
   ],
   "source": [
    "fig, axarr = plt.subplots(2,5)\n",
    "for i in range(2):\n",
    "    for j in range(5):\n",
    "        axarr[i,j].imshow(test_images[i*5+j])"
   ]
  },
  {
   "cell_type": "code",
   "execution_count": 30,
   "metadata": {},
   "outputs": [],
   "source": [
    "test_images_gray = np.zeros((len(test_images), 32, 32, 1))\n",
    "for i in range(len(test_images)):\n",
    "    test_images_gray[i,:,:,0] = cv2.cvtColor(test_images[i], cv2.COLOR_RGB2GRAY) "
   ]
  },
  {
   "cell_type": "code",
   "execution_count": 31,
   "metadata": {},
   "outputs": [
    {
     "data": {
      "image/png": "[encoded data removed]",
      "text/plain": [
       "<Figure size 432x288 with 10 Axes>"
      ]
     },
     "metadata": {
      "needs_background": "light"
     },
     "output_type": "display_data"
    }
   ],
   "source": [
    "fig, axarr = plt.subplots(2,5)\n",
    "for i in range(2):\n",
    "    for j in range(5):\n",
    "        axarr[i,j].imshow(test_images_gray[i*5+j].squeeze(), cmap='gray')"
   ]
  },
  {
   "cell_type": "code",
   "execution_count": 32,
   "metadata": {},
   "outputs": [],
   "source": [
    "test_images_gray = normalize_data(test_images_gray)"
   ]
  },
  {
   "cell_type": "code",
   "execution_count": 33,
   "metadata": {},
   "outputs": [
    {
     "name": "stdout",
     "output_type": "stream",
     "text": [
      "INFO:tensorflow:Restoring parameters from ./deonet3\n",
      "Web Images Accuracy = 1.000\n",
      "Expected Result [ 1  1  2  4 12 11 14 31 31 13]\n",
      "Predicted Result [ 1  1  2  4 12 11 14 31 31 13]\n"
     ]
    }
   ],
   "source": [
    "with tf.Session() as sess:\n",
    "    saver.restore(sess, tf.train.latest_checkpoint('.'))\n",
    "    test_data_accuracy = evaluate(test_images_gray, test_expect)\n",
    "    predict = sess.run(prediction, feed_dict={x: test_images_gray, keep_prob: 1., channel_in: no_channels})\n",
    "print(\"Web Images Accuracy = {:.3f}\".format(test_data_accuracy))\n",
    "print(\"Expected Result\", test_expect)\n",
    "print(\"Predicted Result\", predict)"
   ]
  },
  {
   "cell_type": "markdown",
   "metadata": {},
   "source": [
    "### Analyze Performance"
   ]
  },
  {
   "cell_type": "markdown",
   "metadata": {},
   "source": [
    "### Output Top 5 Softmax Probabilities For Each Image Found on the Web"
   ]
  },
  {
   "cell_type": "markdown",
   "metadata": {},
   "source": [
    "For each of the new images, print out the model's softmax probabilities to show the **certainty** of the model's predictions (limit the output to the top 5 probabilities for each image). [`tf.nn.top_k`](https://www.tensorflow.org/versions/r0.12/api_docs/python/nn.html#top_k) could prove helpful here. \n",
    "\n",
    "The example below demonstrates how tf.nn.top_k can be used to find the top k predictions for each image.\n",
    "\n",
    "`tf.nn.top_k` will return the values and indices (class ids) of the top k predictions. So if k=3, for each sign, it'll return the 3 largest probabilities (out of a possible 43) and the correspoding class ids.\n",
    "\n",
    "Take this numpy array as an example. The values in the array represent predictions. The array contains softmax probabilities for five candidate images with six possible classes. `tf.nn.top_k` is used to choose the three classes with the highest probability:\n",
    "\n",
    "```\n",
    "# (5, 6) array\n",
    "a = np.array([[ 0.24879643,  0.07032244,  0.12641572,  0.34763842,  0.07893497,\n",
    "         0.12789202],\n",
    "       [ 0.28086119,  0.27569815,  0.08594638,  0.0178669 ,  0.18063401,\n",
    "         0.15899337],\n",
    "       [ 0.26076848,  0.23664738,  0.08020603,  0.07001922,  0.1134371 ,\n",
    "         0.23892179],\n",
    "       [ 0.11943333,  0.29198961,  0.02605103,  0.26234032,  0.1351348 ,\n",
    "         0.16505091],\n",
    "       [ 0.09561176,  0.34396535,  0.0643941 ,  0.16240774,  0.24206137,\n",
    "         0.09155967]])\n",
    "```\n",
    "\n",
    "Running it through `sess.run(tf.nn.top_k(tf.constant(a), k=3))` produces:\n",
    "\n",
    "```\n",
    "TopKV2(values=array([[ 0.34763842,  0.24879643,  0.12789202],\n",
    "       [ 0.28086119,  0.27569815,  0.18063401],\n",
    "       [ 0.26076848,  0.23892179,  0.23664738],\n",
    "       [ 0.29198961,  0.26234032,  0.16505091],\n",
    "       [ 0.34396535,  0.24206137,  0.16240774]]), indices=array([[3, 0, 5],\n",
    "       [0, 1, 4],\n",
    "       [0, 5, 1],\n",
    "       [1, 3, 5],\n",
    "       [1, 4, 3]], dtype=int32))\n",
    "```\n",
    "\n",
    "Looking just at the first row we get `[ 0.34763842,  0.24879643,  0.12789202]`, you can confirm these are the 3 largest probabilities in `a`. You'll also notice `[3, 0, 5]` are the corresponding indices."
   ]
  },
  {
   "cell_type": "code",
   "execution_count": 34,
   "metadata": {},
   "outputs": [
    {
     "name": "stdout",
     "output_type": "stream",
     "text": [
      "INFO:tensorflow:Restoring parameters from ./deonet3\n",
      "TopKV2(values=array([[9.9995172e-01, 4.8031401e-05, 7.4138391e-08, 6.3614664e-08,\n",
      "        4.5570570e-08],\n",
      "       [1.0000000e+00, 2.6489408e-10, 6.7380351e-11, 8.7889968e-14,\n",
      "        8.2421761e-15],\n",
      "       [9.9967563e-01, 3.2283217e-04, 1.2162947e-06, 2.6570586e-07,\n",
      "        1.0557997e-07],\n",
      "       [9.9995887e-01, 4.0948853e-05, 1.4723841e-07, 3.6842316e-09,\n",
      "        6.5360543e-11],\n",
      "       [9.9999726e-01, 2.1899157e-06, 4.4193885e-07, 4.2742510e-08,\n",
      "        2.5538741e-08],\n",
      "       [9.9952161e-01, 4.7776703e-04, 5.9777801e-07, 4.1639634e-09,\n",
      "        1.6166617e-09],\n",
      "       [1.0000000e+00, 2.1631616e-10, 4.5356058e-12, 1.3328604e-14,\n",
      "        8.6307390e-16],\n",
      "       [9.9994278e-01, 5.0618743e-05, 3.5789005e-06, 2.9069656e-06,\n",
      "        1.5310314e-07],\n",
      "       [8.7425393e-01, 1.1135777e-01, 9.5354142e-03, 1.6763636e-03,\n",
      "        1.4810705e-03],\n",
      "       [1.0000000e+00, 3.8857629e-29, 1.9314873e-31, 6.8144598e-33,\n",
      "        2.4760821e-37]], dtype=float32), indices=array([[ 1,  2,  3,  4,  5],\n",
      "       [ 1,  2,  4,  0,  5],\n",
      "       [ 2,  1,  5,  0,  3],\n",
      "       [ 4,  1,  0, 37, 39],\n",
      "       [12, 32, 40,  8, 38],\n",
      "       [11, 30, 27, 21, 18],\n",
      "       [14, 38, 17, 33, 13],\n",
      "       [31, 19, 21, 23, 25],\n",
      "       [31, 23, 19, 25, 10],\n",
      "       [13, 35, 12,  2, 15]], dtype=int32))\n"
     ]
    }
   ],
   "source": [
    "### Print out the top five softmax probabilities for the predictions on the German traffic sign images found on the web. \n",
    "### Feel free to use as many code cells as needed.\n",
    "\n",
    "with tf.Session() as sess:\n",
    "    saver.restore(sess, tf.train.latest_checkpoint('.'))\n",
    "    softmax_logits = sess.run(tf.nn.softmax(logits), feed_dict={x: test_images_gray, keep_prob: 1., channel_in: no_channels})\n",
    "    top_k = sess.run(tf.nn.top_k(softmax_logits, k=5), feed_dict={x: test_images_gray, keep_prob: 1., channel_in: no_channels})\n",
    "    print(top_k)"
   ]
  },
  {
   "cell_type": "code",
   "execution_count": 35,
   "metadata": {},
   "outputs": [
    {
     "data": {
      "image/png": "[encoded data removed]",
      "text/plain": [
       "<Figure size 432x288 with 1 Axes>"
      ]
     },
     "metadata": {
      "needs_background": "light"
     },
     "output_type": "display_data"
    }
   ],
   "source": [
    "arr = np.array(top_k[0])\n",
    "\n",
    "width = 0.35\n",
    "labels = range(10)\n",
    "y_offset = np.zeros(10)\n",
    "\n",
    "fig, ax = plt.subplots()\n",
    "for i in range(5):\n",
    "    ax.bar(labels, arr.T[i], width, bottom=y_offset)\n",
    "    y_offset = y_offset + arr.T[i]\n",
    "\n",
    "ax.set_ylabel('Softmax Probabilities')\n",
    "ax.set_title('Top 5 softmax probabilities for each image')\n",
    "\n",
    "plt.show()"
   ]
  },
  {
   "cell_type": "markdown",
   "metadata": {},
   "source": [
    "### Project Writeup\n",
    "\n",
    "Once you have completed the code implementation, document your results in a project writeup using this [template](https://github.com/udacity/CarND-Traffic-Sign-Classifier-Project/blob/master/writeup_template.md) as a guide. The writeup can be in a markdown or pdf file. "
   ]
  },
  {
   "cell_type": "markdown",
   "metadata": {},
   "source": [
    "> **Note**: Once you have completed all of the code implementations and successfully answered each question above, you may finalize your work by exporting the iPython Notebook as an HTML document. You can do this by using the menu above and navigating to  \\n\",\n",
    "    \"**File -> Download as -> HTML (.html)**. Include the finished document along with this notebook as your submission."
   ]
  },
  {
   "cell_type": "markdown",
   "metadata": {},
   "source": [
    "---\n",
    "\n",
    "## Step 4 (Optional): Visualize the Neural Network's State with Test Images\n",
    "\n",
    " This Section is not required to complete but acts as an additional excersise for understaning the output of a neural network's weights. While neural networks can be a great learning device they are often referred to as a black box. We can better understand what the weights of a neural network look like by plotting their feature maps. After successfully training your neural network you can see what it's feature maps look like by plotting the output of the network's weight layers in response to a test stimuli image. From these plotted feature maps, it's possible to see what characteristics of an image the network finds interesting. For a sign, maybe the inner network feature maps react with high activation to the sign's boundary outline or to the contrast in the sign's painted symbol.\n",
    "\n",
    " Provided for you below is the function code that allows you to get the visualization output of any tensorflow weight layer you want. The inputs to the function should be a stimuli image, one used during training or a new one you provided, and then the tensorflow variable name that represents the layer's state during the training process, for instance if you wanted to see what the [LeNet lab's](https://classroom.udacity.com/nanodegrees/nd013/parts/fbf77062-5703-404e-b60c-95b78b2f3f9e/modules/6df7ae49-c61c-4bb2-a23e-6527e69209ec/lessons/601ae704-1035-4287-8b11-e2c2716217ad/concepts/d4aca031-508f-4e0b-b493-e7b706120f81) feature maps looked like for it's second convolutional layer you could enter conv2 as the tf_activation variable.\n",
    "\n",
    "For an example of what feature map outputs look like, check out NVIDIA's results in their paper [End-to-End Deep Learning for Self-Driving Cars](https://devblogs.nvidia.com/parallelforall/deep-learning-self-driving-cars/) in the section Visualization of internal CNN State. NVIDIA was able to show that their network's inner weights had high activations to road boundary lines by comparing feature maps from an image with a clear path to one without. Try experimenting with a similar test to show that your trained network's weights are looking for interesting features, whether it's looking at differences in feature maps from images with or without a sign, or even what feature maps look like in a trained network vs a completely untrained one on the same sign image.\n",
    "\n",
    "<figure>\n",
    " <img src=\"visualize_cnn.png\" width=\"380\" alt=\"Combined Image\" />\n",
    " <figcaption>\n",
    " <p></p> \n",
    " <p style=\"text-align: center;\"> Your output should look something like this (above)</p> \n",
    " </figcaption>\n",
    "</figure>\n",
    " <p></p> \n"
   ]
  },
  {
   "cell_type": "code",
   "execution_count": 36,
   "metadata": {},
   "outputs": [],
   "source": [
    "### Visualize your network's feature maps here.\n",
    "### Feel free to use as many code cells as needed.\n",
    "\n",
    "# image_input: the test image being fed into the network to produce the feature maps\n",
    "# tf_activation: should be a tf variable name used during your training procedure that represents the calculated state of a specific weight layer\n",
    "# activation_min/max: can be used to view the activation contrast in more detail, by default matplot sets min and max to the actual min and max values of the output\n",
    "# plt_num: used to plot out multiple different weight feature map sets on the same block, just extend the plt number for each new feature map entry\n",
    "\n",
    "def outputFeatureMap(image_input, tf_activation, activation_min=-1, activation_max=-1 ,plt_num=1):\n",
    "    # Here make sure to preprocess your image_input in a way your network expects\n",
    "    # with size, normalization, ect if needed\n",
    "    # Note: x should be the same name as your network's tensorflow data placeholder variable\n",
    "    # If you get an error tf_activation is not defined it may be having trouble accessing the variable from inside a function\n",
    "    activation = tf_activation.eval(session=sess,feed_dict={x : image_input, keep_prob: 1., channel_in: no_channels})\n",
    "    featuremaps = activation.shape[3]\n",
    "    plt.figure(plt_num, figsize=(15,15))\n",
    "    for featuremap in range(featuremaps):\n",
    "        plt.subplot(6,8, featuremap+1) # sets the number of feature maps to show on each row and column\n",
    "        plt.title('FeatureMap ' + str(featuremap)) # displays the feature map number\n",
    "        if activation_min != -1 & activation_max != -1:\n",
    "            plt.imshow(activation[0,:,:, featuremap], interpolation=\"nearest\", vmin =activation_min, vmax=activation_max, cmap=\"gray\")\n",
    "        elif activation_max != -1:\n",
    "            plt.imshow(activation[0,:,:, featuremap], interpolation=\"nearest\", vmax=activation_max, cmap=\"gray\")\n",
    "        elif activation_min !=-1:\n",
    "            plt.imshow(activation[0,:,:, featuremap], interpolation=\"nearest\", vmin=activation_min, cmap=\"gray\")\n",
    "        else:\n",
    "            plt.imshow(activation[0,:,:, featuremap], interpolation=\"nearest\", cmap=\"gray\")"
   ]
  },
  {
   "cell_type": "code",
   "execution_count": 38,
   "metadata": {},
   "outputs": [
    {
     "name": "stdout",
     "output_type": "stream",
     "text": [
      "INFO:tensorflow:Restoring parameters from ./deonet3\n"
     ]
    },
    {
     "data": {
      "image/png": "[encoded data removed]",
      "text/plain": [
       "<Figure size 1080x1080 with 10 Axes>"
      ]
     },
     "metadata": {
      "needs_background": "light"
     },
     "output_type": "display_data"
    }
   ],
   "source": [
    "with tf.Session() as sess:\n",
    "    saver.restore(sess, tf.train.latest_checkpoint('.'))\n",
    "    image = test_images_gray[3]\n",
    "    image = np.expand_dims(image, axis=0)\n",
    "    outputFeatureMap(image, conv1)"
   ]
  },
  {
   "cell_type": "code",
   "execution_count": null,
   "metadata": {},
   "outputs": [],
   "source": []
  }
 ],
 "metadata": {
  "anaconda-cloud": {},
  "kernelspec": {
   "display_name": "Python 3",
   "language": "python",
   "name": "python3"
  },
  "language_info": {
   "codemirror_mode": {
    "name": "ipython",
    "version": 3
   },
   "file_extension": ".py",
   "mimetype": "text/x-python",
   "name": "python",
   "nbconvert_exporter": "python",
   "pygments_lexer": "ipython3",
   "version": "3.5.2"
  }
 },
 "nbformat": 4,
 "nbformat_minor": 1
}
